{
  "nbformat": 4,
  "nbformat_minor": 0,
  "metadata": {
    "kernelspec": {
      "display_name": "Python 3",
      "language": "python",
      "name": "python3"
    },
    "language_info": {
      "codemirror_mode": {
        "name": "ipython",
        "version": 3
      },
      "file_extension": ".py",
      "mimetype": "text/x-python",
      "name": "python",
      "nbconvert_exporter": "python",
      "pygments_lexer": "ipython3",
      "version": "3.6.8"
    },
    "colab": {
      "name": "4 Piano Audio to Midi.ipynb",
      "provenance": []
    }
  },
  "cells": [
    {
      "cell_type": "code",
      "metadata": {
        "id": "eHWmQHupy9Fl",
        "outputId": "9fcb92e5-d81f-4471-ea61-cc5cd9c4264e",
        "colab": {
          "base_uri": "https://localhost:8080/"
        }
      },
      "source": [
        "!pip install pretty_midi librosa"
      ],
      "execution_count": 4,
      "outputs": [
        {
          "output_type": "stream",
          "text": [
            "Requirement already satisfied: pretty_midi in /usr/local/lib/python3.6/dist-packages (0.2.9)\n",
            "Requirement already satisfied: librosa in /usr/local/lib/python3.6/dist-packages (0.6.3)\n",
            "Requirement already satisfied: six in /usr/local/lib/python3.6/dist-packages (from pretty_midi) (1.15.0)\n",
            "Requirement already satisfied: numpy>=1.7.0 in /usr/local/lib/python3.6/dist-packages (from pretty_midi) (1.18.5)\n",
            "Requirement already satisfied: mido>=1.1.16 in /usr/local/lib/python3.6/dist-packages (from pretty_midi) (1.2.9)\n",
            "Requirement already satisfied: resampy>=0.2.0 in /usr/local/lib/python3.6/dist-packages (from librosa) (0.2.2)\n",
            "Requirement already satisfied: joblib>=0.12 in /usr/local/lib/python3.6/dist-packages (from librosa) (0.17.0)\n",
            "Requirement already satisfied: audioread>=2.0.0 in /usr/local/lib/python3.6/dist-packages (from librosa) (2.1.9)\n",
            "Requirement already satisfied: scipy>=1.0.0 in /usr/local/lib/python3.6/dist-packages (from librosa) (1.4.1)\n",
            "Requirement already satisfied: scikit-learn!=0.19.0,>=0.14.0 in /usr/local/lib/python3.6/dist-packages (from librosa) (0.22.2.post1)\n",
            "Requirement already satisfied: decorator>=3.0.0 in /usr/local/lib/python3.6/dist-packages (from librosa) (4.4.2)\n",
            "Requirement already satisfied: numba>=0.38.0 in /usr/local/lib/python3.6/dist-packages (from librosa) (0.48.0)\n",
            "Requirement already satisfied: setuptools in /usr/local/lib/python3.6/dist-packages (from numba>=0.38.0->librosa) (50.3.2)\n",
            "Requirement already satisfied: llvmlite<0.32.0,>=0.31.0dev0 in /usr/local/lib/python3.6/dist-packages (from numba>=0.38.0->librosa) (0.31.0)\n"
          ],
          "name": "stdout"
        }
      ]
    },
    {
      "cell_type": "code",
      "metadata": {
        "id": "SNp9o53QyQc_"
      },
      "source": [
        "from IPython.display import display, SVG\n",
        "from matplotlib      import pyplot as plt\n",
        "%config InlineBackend.figure_format = 'retina'\n",
        "\n",
        "import numpy       as np\n",
        "import pretty_midi as pm\n",
        "import librosa     as lbr\n",
        "from   librosa.display     import specshow\n",
        "\n",
        "from keras.models          import load_model\n",
        "from keras.utils.vis_utils import model_to_dot"
      ],
      "execution_count": 5,
      "outputs": []
    },
    {
      "cell_type": "markdown",
      "metadata": {
        "id": "y4YaSikeyQdT"
      },
      "source": [
        "# 1. Load the Song."
      ]
    },
    {
      "cell_type": "code",
      "metadata": {
        "id": "u4P6X7IDzfjm",
        "outputId": "377acfdd-c4ca-4dbf-aadc-b6478fb592b0",
        "colab": {
          "resources": {
            "http://localhost:8080/nbextensions/google.colab/files.js": {
              "data": "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",
              "ok": true,
              "headers": [
                [
                  "content-type",
                  "application/javascript"
                ]
              ],
              "status": 200,
              "status_text": ""
            }
          },
          "base_uri": "https://localhost:8080/",
          "height": 72
        }
      },
      "source": [
        "from google.colab import files\n",
        "import os\n",
        "import fnmatch\n",
        "uploaded = files.upload()\n",
        "\n",
        "for files in glob('*.mp3'):\n",
        "    os.system('mv \"{name}\"  this_is_a_test_{ID}.mp3  '.format(name=files, ID=i+1))\n",
        "    output = getoutput('mv \"{name}\"  this_is_a_test_{ID}.mp3  '.format(name=files, ID=i+1))\n",
        "    print(output)"
      ],
      "execution_count": null,
      "outputs": [
        {
          "output_type": "display_data",
          "data": {
            "text/html": [
              "\n",
              "     <input type=\"file\" id=\"files-5f412dad-2f82-4f6a-8ce0-ad45e4cfa885\" name=\"files[]\" multiple disabled\n",
              "        style=\"border:none\" />\n",
              "     <output id=\"result-5f412dad-2f82-4f6a-8ce0-ad45e4cfa885\">\n",
              "      Upload widget is only available when the cell has been executed in the\n",
              "      current browser session. Please rerun this cell to enable.\n",
              "      </output>\n",
              "      <script src=\"/nbextensions/google.colab/files.js\"></script> "
            ],
            "text/plain": [
              "<IPython.core.display.HTML object>"
            ]
          },
          "metadata": {
            "tags": []
          }
        },
        {
          "output_type": "stream",
          "text": [
            "Saving output.mp3 to output.mp3\n"
          ],
          "name": "stdout"
        }
      ]
    },
    {
      "cell_type": "code",
      "metadata": {
        "id": "zCXiau9JyQdU",
        "outputId": "feaa48df-c5e1-4df4-aabb-d94658860513",
        "colab": {
          "base_uri": "https://localhost:8080/",
          "height": 231
        }
      },
      "source": [
        "rate, songName = 16_000,' this_is_a_test_{ID}.mp3  '.format(name=files, ID=i+1) # './Test songs/MIDI-Unprocessed_22_R1_2011_MID--AUDIO_R1-D8_12_Track12_wav.wav'\n",
        "\n",
        "song = lbr.effects.trim(lbr.load(songName, rate)[0])[0]\n",
        "songLen = int(lbr.get_duration(song, rate))\n",
        "print('Song duration\\t{} min : {} sec'.format(songLen // 60, songLen % 60))"
      ],
      "execution_count": 2,
      "outputs": [
        {
          "output_type": "error",
          "ename": "NameError",
          "evalue": "ignored",
          "traceback": [
            "\u001b[0;31m---------------------------------------------------------------------------\u001b[0m",
            "\u001b[0;31mNameError\u001b[0m                                 Traceback (most recent call last)",
            "\u001b[0;32m<ipython-input-2-4e25dd9958ae>\u001b[0m in \u001b[0;36m<module>\u001b[0;34m()\u001b[0m\n\u001b[1;32m      1\u001b[0m \u001b[0mrate\u001b[0m\u001b[0;34m,\u001b[0m \u001b[0msongName\u001b[0m \u001b[0;34m=\u001b[0m \u001b[0;36m16_000\u001b[0m\u001b[0;34m,\u001b[0m \u001b[0;34m'./Test songs/MIDI-Unprocessed_22_R1_2011_MID--AUDIO_R1-D8_12_Track12_wav.wav'\u001b[0m\u001b[0;34m\u001b[0m\u001b[0;34m\u001b[0m\u001b[0m\n\u001b[1;32m      2\u001b[0m \u001b[0;34m\u001b[0m\u001b[0m\n\u001b[0;32m----> 3\u001b[0;31m \u001b[0msong\u001b[0m \u001b[0;34m=\u001b[0m \u001b[0mlbr\u001b[0m\u001b[0;34m.\u001b[0m\u001b[0meffects\u001b[0m\u001b[0;34m.\u001b[0m\u001b[0mtrim\u001b[0m\u001b[0;34m(\u001b[0m\u001b[0mlbr\u001b[0m\u001b[0;34m.\u001b[0m\u001b[0mload\u001b[0m\u001b[0;34m(\u001b[0m\u001b[0msongName\u001b[0m\u001b[0;34m,\u001b[0m \u001b[0mrate\u001b[0m\u001b[0;34m)\u001b[0m\u001b[0;34m[\u001b[0m\u001b[0;36m0\u001b[0m\u001b[0;34m]\u001b[0m\u001b[0;34m)\u001b[0m\u001b[0;34m[\u001b[0m\u001b[0;36m0\u001b[0m\u001b[0;34m]\u001b[0m\u001b[0;34m\u001b[0m\u001b[0;34m\u001b[0m\u001b[0m\n\u001b[0m\u001b[1;32m      4\u001b[0m \u001b[0msongLen\u001b[0m \u001b[0;34m=\u001b[0m \u001b[0mint\u001b[0m\u001b[0;34m(\u001b[0m\u001b[0mlbr\u001b[0m\u001b[0;34m.\u001b[0m\u001b[0mget_duration\u001b[0m\u001b[0;34m(\u001b[0m\u001b[0msong\u001b[0m\u001b[0;34m,\u001b[0m \u001b[0mrate\u001b[0m\u001b[0;34m)\u001b[0m\u001b[0;34m)\u001b[0m\u001b[0;34m\u001b[0m\u001b[0;34m\u001b[0m\u001b[0m\n\u001b[1;32m      5\u001b[0m \u001b[0mprint\u001b[0m\u001b[0;34m(\u001b[0m\u001b[0;34m'Song duration\\t{} min : {} sec'\u001b[0m\u001b[0;34m.\u001b[0m\u001b[0mformat\u001b[0m\u001b[0;34m(\u001b[0m\u001b[0msongLen\u001b[0m \u001b[0;34m//\u001b[0m \u001b[0;36m60\u001b[0m\u001b[0;34m,\u001b[0m \u001b[0msongLen\u001b[0m \u001b[0;34m%\u001b[0m \u001b[0;36m60\u001b[0m\u001b[0;34m)\u001b[0m\u001b[0;34m)\u001b[0m\u001b[0;34m\u001b[0m\u001b[0;34m\u001b[0m\u001b[0m\n",
            "\u001b[0;31mNameError\u001b[0m: name 'lbr' is not defined"
          ]
        }
      ]
    },
    {
      "cell_type": "markdown",
      "metadata": {
        "id": "SCtK-wkryQdV"
      },
      "source": [
        "# 2. Log Mel-scaled Spectrogram."
      ]
    },
    {
      "cell_type": "code",
      "metadata": {
        "id": "Z_ZYojKHyQdV"
      },
      "source": [
        "melsMinMin, melsMinMax, melsMeanMin, melsMeanMax, melsMaxMin, melsMaxMax = -43, -36, -26, -3, 37, 44\n",
        "\n",
        "mels = lbr.power_to_db(lbr.magphase(lbr.feature.melspectrogram(song, rate, n_mels=229, fmin=30, htk=True))[0])\n",
        "assert melsMinMin < mels.min() < melsMinMax and melsMeanMin < mels.mean() < melsMeanMax \\\n",
        "    and melsMaxMin < mels.max() < melsMaxMax, 'Wrong mels decibels range'\n",
        "print('{} frames,\\tmels decibels in range [{:.0f} ... {:.0f} ... {:.0f}]'.format(\n",
        "    mels.shape[1], mels.min(), mels.mean(), mels.max()))\n",
        "\n",
        "def PlotMelSpectrum(title):\n",
        "    plt.title(title)\n",
        "    specshow(mels, x_axis='time', y_axis='mel')\n",
        "    plt.hlines([lbr.note_to_hz('C0'), lbr.note_to_hz('C1'), lbr.note_to_hz('C2'), lbr.note_to_hz('C3'), lbr.note_to_hz('C4'),\n",
        "                lbr.note_to_hz('C5'), lbr.note_to_hz('C6'), lbr.note_to_hz('C7'), lbr.note_to_hz('C8')], 0, 10, linewidth=2)\n",
        "    plt.xlim(0, 10)\n",
        "\n",
        "plt.figure(figsize=(16, 10))\n",
        "PlotMelSpectrum('Power spectrogram')"
      ],
      "execution_count": null,
      "outputs": []
    },
    {
      "cell_type": "markdown",
      "metadata": {
        "id": "Ylj2vQKjyQdW"
      },
      "source": [
        "# 3. Load RNN-Models and Predict Probabilities."
      ]
    },
    {
      "cell_type": "code",
      "metadata": {
        "scrolled": false,
        "id": "NXex_6flyQdW"
      },
      "source": [
        "nFrames = lbr.time_to_frames(20, rate) + 1\n",
        "\n",
        "melsReshaped = np.pad(mels, [(0, 0), (0, -mels.shape[1] % nFrames)], 'minimum').T.reshape((-1, nFrames, len(mels)))\n",
        "#onMod, offMod, actMod, volMod = map(lambda name, accTrain, accVal: load_model(\n",
        "#    'Models/Training {} Model {:.2f} {:.2f}.hdf5'.format(name, accTrain, accVal), compile=False),\n",
        "#    ['Onsets', 'Offsets', 'Actives', 'Volumes'], [63.98, 43.21, 83.18, 98.72], [64, 39.53, 78.88, 96.95])\n",
        "onMod, offMod, actMod, volMod = map(lambda name: load_model('Magenta {}.hdf5'.format(name), compile=False),\n",
        "                                    ['Onsets 67.74', 'Offsets 44.52', 'Frame 76.97', 'Velocity 93.42'])\n",
        "for model in [onMod, offMod, actMod, volMod]: display(SVG(model_to_dot(model, True, False, 'LR').create(format='svg')))\n",
        "\n",
        "onProb, offProb, volProb = map(lambda mod: mod.predict(melsReshaped, 32, 1), [onMod, offMod, volMod])\n",
        "#actProb = actMod.predict([melsReshaped, onProb, offProb], 32, 1)\n",
        "actProb = actMod.predict([onProb, melsReshaped, offProb], 32, 1)\n",
        "onProb, actProb, volProb = map(lambda arr: np.vstack(arr)[:mels.shape[1]], [onProb, actProb, volProb])\n",
        "\n",
        "plt.figure(figsize=(16, 16))\n",
        "def PlotRoll(i, yProb, name):\n",
        "    plt.subplot(2, 1, i)\n",
        "    specshow(yProb[0:lbr.time_to_frames(10, rate)].T, x_axis='time', y_axis='cqt_note', sr=rate, fmin=lbr.note_to_midi('A0'))\n",
        "    plt.title('Piano-roll of predicted {} probabilities'.format(name))\n",
        "\n",
        "PlotRoll(1, onProb, 'onset')\n",
        "PlotRoll(2, np.maximum(onProb, actProb), 'note')"
      ],
      "execution_count": null,
      "outputs": []
    },
    {
      "cell_type": "markdown",
      "metadata": {
        "id": "qFo6dxLlyQdY"
      },
      "source": [
        "# 4 Keep Only Notes with Probabilities >= some threshold.\n",
        "From https://arxiv.org/pdf/1710.11153.pdf:\n",
        "\n",
        "Page 1 \"Abstract\":\n",
        "\n",
        "`During inference, we restrict the predictions from the framewise detector by not allowing a new note to start unless the onset detector also agrees that an onset for that pitch is present in the frame.`\n",
        "\n",
        "Page 2, Section 3 \"Model Configuration\":\n",
        "\n",
        "`An activation from the frame detector is only allowed to start a note if the onset detector agrees that an onset is present in that frame.`\n",
        "\n",
        "Page 3, Section 3.1 \"Velocity Estimation\":\n",
        "\n",
        "`At inference time the output is ... then transformed to a midi velocity by the following mapping:`\n",
        "$$v_{midi} = 80 * v_{predicted} + 10$$\n",
        "`The final mapping is arbitrary, but we found this leads to pleasing audio renderings.`"
      ]
    },
    {
      "cell_type": "code",
      "metadata": {
        "id": "FMs4837-yQdZ"
      },
      "source": [
        "midi = pm.PrettyMIDI(initial_tempo=lbr.beat.tempo(song, rate).mean())\n",
        "midi.lyrics += [pm.Lyric('Automatically transcribed from audio:\\r\\n\\t' + songName, 0),\n",
        "                pm.Lyric('Used software created by Boris Shakhovsky', 0)]\n",
        "track = pm.Instrument(program=pm.instrument_name_to_program('Acoustic Grand Piano'), name='Acoustic Grand Piano')\n",
        "midi.instruments += [track]\n",
        "\n",
        "''' Based on https://github.com/tensorflow/magenta/blob/master/magenta/music/sequences_lib.py#L1844\n",
        "    magenta.music.midi_ionote_sequence_to_midi_file(\n",
        "    magenta.music.sequences_libpianoroll_to_note_sequence(fps=rate/512, min_duration=0, min_midi_pitch=21 ... '''\n",
        "\n",
        "intervals, frameLenSecs = {}, lbr.frames_to_time(1, rate) # Time is in absolute seconds, not relative MIDI ticks\n",
        "onsets = (onProb > .5).astype(np.int8)\n",
        "frames = onsets | (actProb > .5).astype(np.int8) # Ensure that any frame with an onset prediction is considered active.\n",
        "\n",
        "def EndPitch(pitch, endFrame):\n",
        "    track.notes += [pm.Note(int(volProb[intervals[pitch], pitch] * 80 + 10), pitch + 21,\n",
        "                            intervals[pitch] * frameLenSecs, endFrame * frameLenSecs)]\n",
        "    del intervals[pitch]\n",
        "\n",
        "# Add silent frame at the end so we can do a final loop and terminate any notes that are still active:\n",
        "for i, frame in enumerate(np.vstack([frames, np.zeros(frames.shape[1])])):\n",
        "    for pitch, active in enumerate(frame):\n",
        "        if active:\n",
        "            if pitch not in intervals:\n",
        "                if onsets is None: intervals[pitch] = i\n",
        "                elif onsets[i, pitch]: intervals[pitch] = i # Start a note only if we have predicted an onset\n",
        "                #else: Even though the frame is active, there is no onset, so ignore it\n",
        "            elif onsets is not None:\n",
        "                if (onsets[i, pitch] and not onsets[i - 1, pitch]):\n",
        "                    EndPitch(pitch, i)   # Pitch is already active, but because of a new onset, we should end the note\n",
        "                    intervals[pitch] = i # and start a new one\n",
        "        elif pitch in intervals: EndPitch(pitch, i)\n",
        "\n",
        "if track.notes: assert len(frames) * frameLenSecs >= track.notes[-1].end, 'Wrong MIDI sequence duration'\n",
        "\n",
        "\n",
        "plt.figure(figsize=(16, 20))\n",
        "plt.subplot(2, 1, 1)\n",
        "\n",
        "notes = midi.get_pitch_class_histogram()\n",
        "plt.bar(np.arange(12), notes)\n",
        "plt.xticks(np.arange(12), ['C', 'C#', 'D', 'Eb', 'E', 'F', 'F#', 'G', 'Ab', 'A', 'Bb', 'B'])\n",
        "plt.title('Pitch class distribution (sort of a proxy for key)')\n",
        "plt.xlabel('Note')\n",
        "plt.ylabel('Proportion')\n",
        "plt.xlim(-.5, 11.5)\n",
        "\n",
        "plt.subplot(2, 1, 2)\n",
        "x, y, xOn, yOn = [], [], [], []\n",
        "for time, frame in enumerate(frames[:lbr.time_to_frames(10, rate)]):\n",
        "    for n, onOff in enumerate(frame):\n",
        "        if onOff:\n",
        "            x += [lbr.frames_to_time(time, rate)]\n",
        "            y += [lbr.midi_to_hz(n + 21)]\n",
        "        if onsets[time, n]:\n",
        "            xOn += [lbr.frames_to_time(time, rate)]\n",
        "            yOn += [lbr.midi_to_hz(n + 21)]\n",
        "PlotMelSpectrum('Log Mel-scaled power spectrogram with MIDI-notes on it (notes are white, onsets are red)')\n",
        "plt.scatter(x,   y,   70, 'w', linewidths=1, edgecolors='black')\n",
        "plt.scatter(xOn, yOn, 70, 'r', linewidths=2, edgecolors='black')\n",
        "plt.ylim(0, lbr.note_to_hz('C8'))\n",
        "\n",
        "gamma = [n for _, n in sorted([(count, ['C', 'C#', 'D', 'Eb', 'E', 'F', 'F#', 'G', 'Ab', 'A', 'Bb', 'B'][i])\n",
        "                               for i, count in enumerate(notes)], reverse=True)[:7]]\n",
        "blacks = sorted(n for n in gamma if len(n) > 1)\n",
        "blacks, gamma"
      ],
      "execution_count": null,
      "outputs": []
    },
    {
      "cell_type": "markdown",
      "metadata": {
        "id": "Frj91OciyQdd"
      },
      "source": [
        "# 7.1 Key Signature Estimation, Option 1.\n",
        "### From Kumhansl and Schmuckler as reported here:\n",
        "http://rnhart.net/articles/key-finding/"
      ]
    },
    {
      "cell_type": "code",
      "metadata": {
        "id": "iYIBQ4tkyQdh"
      },
      "source": [
        "chroma = lbr.feature.chroma_cqt(song, rate).sum(1)\n",
        "major = [np.corrcoef(chroma, np.roll([6.35, 2.23, 3.48, 2.33, 4.38, 4.09, 2.52, 5.19, 2.39, 3.66, 2.29, 2.88], i))[0, 1] for i in range(12)]\n",
        "minor = [np.corrcoef(chroma, np.roll([6.33, 2.68, 3.52, 5.38, 2.60, 3.53, 2.54, 4.75, 3.98, 2.69, 3.34, 3.17], i))[0, 1] for i in range(12)]\n",
        "keySignature = (['C', 'C#', 'D', 'Eb', 'E', 'F', 'F#', 'G', 'Ab', 'A', 'Bb', 'B'][\n",
        "    major.index(max(major)) if max(major) > max(minor) else minor.index(max(minor)) - 3]\n",
        "                + ('m' if max(major) < max(minor) else ''))\n",
        "keySignature"
      ],
      "execution_count": null,
      "outputs": []
    },
    {
      "cell_type": "code",
      "metadata": {
        "id": "M7fPosYqyQdh"
      },
      "source": [
        "chroma = lbr.feature.chroma_cqt(C=onsets.T, fmin=lbr.note_to_hz('A0')).sum(1)\n",
        "major = [np.corrcoef(chroma, np.roll([6.35, 2.23, 3.48, 2.33, 4.38, 4.09, 2.52, 5.19, 2.39, 3.66, 2.29, 2.88], i))[0, 1] for i in range(12)]\n",
        "minor = [np.corrcoef(chroma, np.roll([6.33, 2.68, 3.52, 5.38, 2.60, 3.53, 2.54, 4.75, 3.98, 2.69, 3.34, 3.17], i))[0, 1] for i in range(12)]\n",
        "keySignature = (['C', 'C#', 'D', 'Eb', 'E', 'F', 'F#', 'G', 'Ab', 'A', 'Bb', 'B'][\n",
        "    major.index(max(major)) if max(major) > max(minor) else minor.index(max(minor)) - 3]\n",
        "                + ('m' if max(major) < max(minor) else ''))\n",
        "keySignature"
      ],
      "execution_count": null,
      "outputs": []
    },
    {
      "cell_type": "markdown",
      "metadata": {
        "id": "IJUtSquTyQdi"
      },
      "source": [
        "# 7.2 Key Signature Estimation, Option 2."
      ]
    },
    {
      "cell_type": "code",
      "metadata": {
        "id": "jLBDhBRqyQdj"
      },
      "source": [
        "MajorMinor = lambda mj, mn: mj if gamma.index(mj) < gamma.index(mn) else mn + 'm'\n",
        "\n",
        "if len(blacks) == 0: keySignature = MajorMinor('C', 'A')\n",
        "\n",
        "elif len(blacks) == 1:\n",
        "    if blacks[0] == 'F#':\n",
        "        assert 'F' not in gamma\n",
        "        keySignature = MajorMinor('G', 'E')\n",
        "    elif blacks[0] == 'Bb':\n",
        "        assert 'B' not in gamma\n",
        "        keySignature = MajorMinor('F', 'D')\n",
        "    else: assert False\n",
        "\n",
        "elif len(blacks) == 2:\n",
        "    if blacks == ['C#', 'F#']:\n",
        "        assert 'C' not in gamma and 'F' not in gamma\n",
        "        keySignature = MajorMinor('D', 'B')\n",
        "    elif blacks == ['Bb', 'Eb']:\n",
        "        assert 'B' not in gamma and 'E' not in gamma\n",
        "        keySignature = MajorMinor('Bb', 'G')\n",
        "    else: assert False\n",
        "\n",
        "elif len(blacks) == 3:\n",
        "    if blacks == ['Ab', 'C#', 'F#']:\n",
        "        assert 'C' not in gamma and 'F' not in gamma and 'G' not in gamma\n",
        "        keySignature = MajorMinor('A', 'F#')\n",
        "    elif blacks == ['Ab', 'Bb', 'Eb']:\n",
        "        assert 'B' not in gamma and 'E' not in gamma and 'A' not in gamma\n",
        "        keySignature = MajorMinor('Eb', 'C')\n",
        "    else: assert False\n",
        "\n",
        "elif len(blacks) == 4:\n",
        "    if blacks == ['Ab', 'C#', 'Eb', 'F#']:\n",
        "        assert 'C' not in gamma and 'D' not in gamma and 'F' not in gamma and 'G' not in gamma\n",
        "        keySignature = MajorMinor('E', 'C#')\n",
        "    elif blacks == ['Ab', 'Bb', 'C#', 'Eb']:\n",
        "        assert 'B' not in gamma and 'E' not in gamma and 'A' not in gamma and 'D' not in gamma\n",
        "        keySignature = MajorMinor('Ab', 'F')\n",
        "    else: assert False\n",
        "\n",
        "elif 'B' in gamma and 'E' in gamma: keySignature = MajorMinor('B', 'Ab')\n",
        "elif 'C' in gamma and 'F' in gamma: keySignature = MajorMinor('C#', 'Bb')\n",
        "else: assert False\n",
        "\n",
        "keySignature"
      ],
      "execution_count": null,
      "outputs": []
    },
    {
      "cell_type": "markdown",
      "metadata": {
        "id": "4wJzW1tmyQdk"
      },
      "source": [
        "# 8. Finally, Write MIDI.\n",
        "No instrument information is extracted, and all transcribed notes get combined into one part."
      ]
    },
    {
      "cell_type": "code",
      "metadata": {
        "scrolled": false,
        "id": "FkHOJXYbyQdk"
      },
      "source": [
        "midi.key_signature_changes += [pm.KeySignature(pm.key_name_to_key_number(keySignature), 0)]\n",
        "songName = '.'.join(songName.split('.')[:-1]) + '.mid'\n",
        "midi.write(songName)\n",
        "'{} saved'.format(songName)"
      ],
      "execution_count": null,
      "outputs": []
    }
  ]
}